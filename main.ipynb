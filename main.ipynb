{
 "cells": [
  {
   "cell_type": "markdown",
   "metadata": {},
   "source": [
    "### Neural Networks and Computational Intelligence\n",
    "**Assigment 1** \\\n",
    "Hugo Kolstee - s3515249 \\\n",
    "Yorick Juffer - s1993623"
   ]
  },
  {
   "cell_type": "markdown",
   "metadata": {},
   "source": [
    "#### Libraries"
   ]
  },
  {
   "cell_type": "code",
   "execution_count": 96,
   "metadata": {},
   "outputs": [],
   "source": [
    "import numpy as np\n",
    "import pandas as pd\n",
    "import matplotlib.pyplot as plt"
   ]
  },
  {
   "cell_type": "markdown",
   "metadata": {},
   "source": [
    "#### Dataset\n",
    "Generates a dataset where the vectors have a mean of 0 and a standard deviation of 1. Also generates the random labels of -1 and 1."
   ]
  },
  {
   "cell_type": "code",
   "execution_count": 97,
   "metadata": {},
   "outputs": [],
   "source": [
    "class Dataset:\n",
    "    def __init__(self, p, n):\n",
    "        self.p = p   # number of vectors\n",
    "        self.n = n   # size of vectors\n",
    "        self.left = int(self.p/2)\n",
    "        self.right = self.p - self.left\n",
    "        self.data = self.generate_data()\n",
    "        self.labels = self.generate_labels()\n",
    "\n",
    "    def generate_data(self):\n",
    "        data_x = np.random.normal(0.01, 1, size=(self.left, self.n))\n",
    "        data_y = np.random.normal(-0.01, 1, size=(self.right, self.n))\n",
    "        data = np.concatenate((data_x, data_y))\n",
    "        return data\n",
    "\n",
    "    def generate_labels(self):\n",
    "        labels_x = np.ones(self.left)\n",
    "        labels_y = np.ones(self.right) * -1\n",
    "        labels = np.concatenate((labels_x, labels_y))\n",
    "        return labels"
   ]
  },
  {
   "cell_type": "markdown",
   "metadata": {},
   "source": [
    "#### Training"
   ]
  },
  {
   "cell_type": "code",
   "execution_count": 98,
   "metadata": {},
   "outputs": [],
   "source": [
    "def train(data, iterations):\n",
    "    weights = np.zeros(data.n, dtype = float)\n",
    "    \n",
    "    for i in range(iterations):\n",
    "        misclassifications = 0\n",
    "\n",
    "        for j in range(0, data.p):\n",
    "            \n",
    "            if(np.dot(weights, data.data[j]) * data.labels[j] <= 0):\n",
    "                weights += (1/data.n) * data.data[j] * data.labels[j]\n",
    "                misclassifications += 1\n",
    "\n",
    "\n",
    "    return (data.p - misclassifications)/data.p * 100"
   ]
  },
  {
   "cell_type": "markdown",
   "metadata": {},
   "source": [
    "#### Perceptron"
   ]
  },
  {
   "cell_type": "code",
   "execution_count": 99,
   "metadata": {},
   "outputs": [],
   "source": [
    "def perceptron(feature):\n",
    "    \n",
    "    feature_vectors = [int(i * feature) for i in np.arange(0.75, 4.25, 1/feature)]\n",
    "    datasets = 50\n",
    "    iterations = 100\n",
    "\n",
    "    results = np.zeros(len(feature_vectors))\n",
    "\n",
    "    for dataset in range(datasets):\n",
    "\n",
    "        count = 0\n",
    "\n",
    "        for feature_vector in feature_vectors:\n",
    "            \n",
    "            # generate\n",
    "            data = Dataset(feature_vector, feature)\n",
    "\n",
    "            # train\n",
    "            accuracy = train(data, iterations)\n",
    "\n",
    "            accuracy = (results[count] + accuracy) \n",
    "            results[count] = accuracy\n",
    "\n",
    "            count += 1\n",
    "\n",
    "            print(\"Dataset: {}     \".format(dataset), end=\"\\r\")\n",
    "\n",
    "    results = pd.DataFrame(results/datasets)\n",
    "    results = (results - results.min())/ (results.max() - results.min())\n",
    "    results = results.assign(a=[i for i in np.arange(0.75, 4.25, 1/feature)])\n",
    "    return results"
   ]
  },
  {
   "cell_type": "markdown",
   "metadata": {},
   "source": [
    "#### Run:"
   ]
  },
  {
   "cell_type": "code",
   "execution_count": 100,
   "metadata": {},
   "outputs": [
    {
     "name": "stdout",
     "output_type": "stream",
     "text": [
      "---aset: 49     \n",
      "\n",
      "Dataset: 49     \r"
     ]
    },
    {
     "data": {
      "image/png": "[encoded data removed]",
      "text/plain": [
       "<Figure size 640x480 with 1 Axes>"
      ]
     },
     "metadata": {},
     "output_type": "display_data"
    }
   ],
   "source": [
    "#run\n",
    "data_20 = perceptron(20)\n",
    "print(\"---\\n\")\n",
    "data_40 = perceptron(40)\n",
    "# data_50 = perceptron(50)\n",
    "# data_100 = perceptron(100)\n",
    "\n",
    "# plt.plot(data_25[\"a\"], data_25[0], label = \"data_25\")\n",
    "# plt.plot(data_50[\"a\"], data_50[0], label = \"data_50\")\n",
    "# plt.plot(data_100[\"a\"], data_100[0], label = \"data_100\")\n",
    "# plt.plot(data_200[\"a\"], data_200[0], label = \"data_200\")\n",
    "\n",
    "fig, ax = plt.subplots()\n",
    "\n",
    "ax.step(data_20[\"a\"], data_20[0], label = \"data_20\")\n",
    "ax.step(data_40[\"a\"], data_40[0], label = \"data_40\")\n",
    "\n",
    "plt.legend(loc=\"upper right\")\n",
    "plt.show()\n",
    "\n"
   ]
  }
 ],
 "metadata": {
  "kernelspec": {
   "display_name": "Python 3.10.8 ('.venv': venv)",
   "language": "python",
   "name": "python3"
  },
  "language_info": {
   "codemirror_mode": {
    "name": "ipython",
    "version": 3
   },
   "file_extension": ".py",
   "mimetype": "text/x-python",
   "name": "python",
   "nbconvert_exporter": "python",
   "pygments_lexer": "ipython3",
   "version": "3.10.8"
  },
  "orig_nbformat": 4,
  "vscode": {
   "interpreter": {
    "hash": "0d75fe6ac8f189ee8fb43b8cfa81397803f9629c02fbc179d18f2b0e27b1123a"
   }
  }
 },
 "nbformat": 4,
 "nbformat_minor": 2
}
