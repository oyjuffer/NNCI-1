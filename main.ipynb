{
 "cells": [
  {
   "attachments": {},
   "cell_type": "markdown",
   "metadata": {},
   "source": [
    "# Neural Networks and Computational Intelligence\n",
    "**Assigment 1** \\\n",
    "Hugo Kolstee - s3515249 \\\n",
    "Yorick Juffer - s1993623"
   ]
  },
  {
   "attachments": {},
   "cell_type": "markdown",
   "metadata": {},
   "source": [
    "## Libraries"
   ]
  },
  {
   "cell_type": "code",
   "execution_count": 261,
   "metadata": {},
   "outputs": [],
   "source": [
    "import numpy as np\n",
    "import pandas as pd\n",
    "import matplotlib.pyplot as plt\n",
    "\n",
    "import os.path\n",
    "from os import path"
   ]
  },
  {
   "attachments": {},
   "cell_type": "markdown",
   "metadata": {},
   "source": [
    "## Dataset\n",
    "Generates a dataset where the vectors have a mean of 0 and a standard deviation of 1. Also generates the random labels of -1 and 1."
   ]
  },
  {
   "cell_type": "code",
   "execution_count": 262,
   "metadata": {},
   "outputs": [],
   "source": [
    "class Dataset:\n",
    "    def __init__(self, p, n):\n",
    "        self.p = p   # number of vectors\n",
    "        self.n = n   # size of vectors\n",
    "        self.left = int(self.p/2)\n",
    "        self.right = self.p - self.left\n",
    "        self.data = self.generate_data()\n",
    "        self.labels = self.generate_labels()\n",
    "\n",
    "    def generate_data(self):\n",
    "        data_x = np.random.normal(0.01, 1, size=(self.left, self.n))\n",
    "        data_y = np.random.normal(-0.01, 1, size=(self.right, self.n))\n",
    "        data = np.concatenate((data_x, data_y))\n",
    "        return data\n",
    "\n",
    "    def generate_labels(self):\n",
    "        labels_x = np.ones(self.left)\n",
    "        labels_y = np.ones(self.right) * -1\n",
    "        labels = np.concatenate((labels_x, labels_y))\n",
    "        return labels"
   ]
  },
  {
   "attachments": {},
   "cell_type": "markdown",
   "metadata": {},
   "source": [
    "## Training"
   ]
  },
  {
   "cell_type": "code",
   "execution_count": 263,
   "metadata": {},
   "outputs": [],
   "source": [
    "def train(data):\n",
    "    weights = np.zeros(data.n)\n",
    "    iterations = 100\n",
    "\n",
    "    misclassifications_list = []\n",
    "\n",
    "    for i in range(iterations):\n",
    "\n",
    "        misclassifications = 0\n",
    "\n",
    "        for j in range(0, data.p):\n",
    "            \n",
    "            if(np.dot(weights, data.data[j]) * data.labels[j] <= 0):\n",
    "                weights += (1/data.n) * data.data[j] * data.labels[j]\n",
    "                misclassifications += 1\n",
    "\n",
    "        misclassifications_list.append(misclassifications)\n",
    "\n",
    "        if(misclassifications == 0):\n",
    "            break\n",
    "\n",
    "    return misclassifications_list"
   ]
  },
  {
   "attachments": {},
   "cell_type": "markdown",
   "metadata": {},
   "source": [
    "## Perceptron"
   ]
  },
  {
   "cell_type": "code",
   "execution_count": 264,
   "metadata": {},
   "outputs": [],
   "source": [
    "def perceptron(n):\n",
    "    p_array = [int(i * n) for i in np.arange(0.75, 4.25, 0.01)]\n",
    "    datasets = 50\n",
    "    recording = False\n",
    "    \n",
    "    for dataset in range(datasets):\n",
    "\n",
    "        accuracies = []\n",
    "\n",
    "        for p in p_array:\n",
    "            \n",
    "            # generate\n",
    "            data = Dataset(p, n)\n",
    "\n",
    "            # train\n",
    "            misclassifications_list = train(data)\n",
    "            accuracy = (1 if misclassifications_list[-1] == 0 else 0)\n",
    "            # accuracies.append(accuracy)\n",
    "\n",
    "            if(not recording):\n",
    "                results = np.array([[accuracy, p/n]])\n",
    "                recording = True\n",
    "            else:\n",
    "                results = np.append(results, [[accuracy, p/n]], axis=0)\n",
    "\n",
    "            print(\"N: {}, Dataset: {}, Alpha: {}\".format(n, dataset, p/n), end=\"\\r\")\n",
    "\n",
    "    return results"
   ]
  },
  {
   "attachments": {},
   "cell_type": "markdown",
   "metadata": {},
   "source": [
    "## Run Perceptrons\n",
    "Checks if the .csv files are already present, if not runs the perceptrons. \\\n",
    "THIS TAKES A VERY LONG TIME TO RUN"
   ]
  },
  {
   "cell_type": "code",
   "execution_count": 310,
   "metadata": {},
   "outputs": [],
   "source": [
    "if (not path.exists(\"data_5.csv\")):\n",
    "    data_5 = perceptron(5)\n",
    "    np.savetxt(\"data_5.csv\", data_5, delimiter=\",\")\n",
    "\n",
    "if (not path.exists(\"data_20.csv\")):\n",
    "    data_20 = perceptron(20)\n",
    "    np.savetxt(\"data_20.csv\", data_5, delimiter=\",\")\n",
    "\n",
    "if (not path.exists(\"data_100.csv\")):\n",
    "    data_100 = perceptron(100)\n",
    "    np.savetxt(\"data_100.csv\", data_5, delimiter=\",\")\n",
    "\n",
    "if (not path.exists(\"data_200.csv\")):\n",
    "    data_200 = perceptron(200)\n",
    "    np.savetxt(\"data_200.csv\", data_5, delimiter=\",\")"
   ]
  },
  {
   "attachments": {},
   "cell_type": "markdown",
   "metadata": {},
   "source": [
    "## Load Data"
   ]
  },
  {
   "cell_type": "code",
   "execution_count": 302,
   "metadata": {},
   "outputs": [],
   "source": [
    "df_5 = pd.read_csv('data_5.csv')\n",
    "df_20 = pd.read_csv('data_20.csv')\n",
    "df_100 = pd.read_csv('data_100.csv')\n",
    "df_200 = pd.read_csv('data_200.csv')"
   ]
  },
  {
   "attachments": {},
   "cell_type": "markdown",
   "metadata": {},
   "source": [
    "## Data"
   ]
  },
  {
   "cell_type": "code",
   "execution_count": 307,
   "metadata": {},
   "outputs": [],
   "source": [
    "df_5.columns = [\"accuracy\", \"alpha\"]\n",
    "df_5_grouped = df_5.groupby([\"alpha\"]).mean()\n",
    "\n",
    "df_20.columns = [\"accuracy\", \"alpha\"]\n",
    "df_20_grouped = df_20.groupby([\"alpha\"]).mean()\n",
    "\n",
    "df_100.columns = [\"accuracy\", \"alpha\"]\n",
    "df_100_grouped = df_100.groupby([\"alpha\"]).mean()\n",
    "\n",
    "df_200.columns = [\"accuracy\", \"alpha\"]\n",
    "df_200_grouped = df_200.groupby([\"alpha\"]).mean()"
   ]
  },
  {
   "attachments": {},
   "cell_type": "markdown",
   "metadata": {},
   "source": [
    "## Generate Plots"
   ]
  },
  {
   "cell_type": "code",
   "execution_count": 306,
   "metadata": {},
   "outputs": [
    {
     "data": {
      "image/png": "[encoded data removed]",
      "text/plain": [
       "<Figure size 640x480 with 1 Axes>"
      ]
     },
     "metadata": {},
     "output_type": "display_data"
    }
   ],
   "source": [
    "plt.plot(df_5_grouped, label = \"5\")\n",
    "plt.plot(df_20_grouped,  label = \"20\")\n",
    "plt.plot(df_100_grouped,  label = \"100\")\n",
    "plt.plot(df_200_grouped,  label = \"200\")\n",
    "plt.legend(loc=\"upper right\", title=\"N\")\n",
    "plt.xlabel('Alpha')\n",
    "plt.ylabel('Accuracy')\n",
    "plt.show()"
   ]
  }
 ],
 "metadata": {
  "kernelspec": {
   "display_name": ".venv",
   "language": "python",
   "name": "python3"
  },
  "language_info": {
   "codemirror_mode": {
    "name": "ipython",
    "version": 3
   },
   "file_extension": ".py",
   "mimetype": "text/x-python",
   "name": "python",
   "nbconvert_exporter": "python",
   "pygments_lexer": "ipython3",
   "version": "3.10.9"
  },
  "orig_nbformat": 4,
  "vscode": {
   "interpreter": {
    "hash": "3faa30f3271970ce5cb183daa3c852268de61089265e88ceafccef50e04b914d"
   }
  }
 },
 "nbformat": 4,
 "nbformat_minor": 2
}
